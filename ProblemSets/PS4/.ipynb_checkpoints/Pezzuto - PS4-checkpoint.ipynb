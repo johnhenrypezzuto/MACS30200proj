{
 "cells": [
  {
   "cell_type": "markdown",
   "metadata": {},
   "source": [
    "# John Pezzuto - PS 4"
   ]
  },
  {
   "cell_type": "code",
   "execution_count": 1,
   "metadata": {
    "collapsed": true
   },
   "outputs": [],
   "source": [
    "import scipy.stats as sts\n",
    "import numpy as np\n",
    "import matplotlib.pyplot as plt\n",
    "import numpy.linalg as LA"
   ]
  },
  {
   "cell_type": "markdown",
   "metadata": {},
   "source": [
    "## 1a) "
   ]
  },
  {
   "cell_type": "code",
   "execution_count": 2,
   "metadata": {
    "collapsed": false
   },
   "outputs": [],
   "source": [
    "rho = 0.85\n",
    "mu = 11.4\n",
    "T = 500\n",
    "sigma = 0.7\n",
    "z = np.zeros(500)\n",
    "unif_vec = sts.uniform.rvs(loc=0, scale=1, size=T, random_state=25)\n",
    "eps_vec = sts.norm.ppf(unif_vec, loc=0, scale=sigma)"
   ]
  },
  {
   "cell_type": "code",
   "execution_count": 3,
   "metadata": {
    "collapsed": false
   },
   "outputs": [],
   "source": [
    "z_vec = np.empty(T)\n",
    "\n",
    "for i in range(T):\n",
    "    if i == 0:\n",
    "        z = rho\n",
    "    else:\n",
    "        z = rho*z_vec[i-1] + (1-rho)*mu + eps_vec[i]\n",
    "    \n",
    "    z_vec[i] = z\n",
    "z_orig_vec = z_vec"
   ]
  },
  {
   "cell_type": "code",
   "execution_count": 4,
   "metadata": {
    "collapsed": false
   },
   "outputs": [
    {
     "data": {
      "image/png": "[encoded data removed]",
      "text/plain": [
       "<matplotlib.figure.Figure at 0x1152ede10>"
      ]
     },
     "metadata": {},
     "output_type": "display_data"
    }
   ],
   "source": [
    "plt.plot(z_vec[:100])\n",
    "plt.title(\"First 100 Oberservations of $z_t$\")\n",
    "plt.ylabel(\"$z_t$\")\n",
    "plt.xlabel(\"t\")\n",
    "plt.show()"
   ]
  },
  {
   "cell_type": "markdown",
   "metadata": {},
   "source": [
    "## 1b)"
   ]
  },
  {
   "cell_type": "code",
   "execution_count": 5,
   "metadata": {
    "collapsed": false
   },
   "outputs": [
    {
     "data": {
      "text/plain": [
       "array([  9.3 ,  10.35,  11.4 ,  12.45,  13.5 ])"
      ]
     },
     "execution_count": 5,
     "metadata": {},
     "output_type": "execute_result"
    }
   ],
   "source": [
    "lower = mu - 3*sigma\n",
    "upper = mu + 3*sigma\n",
    "z_vals = np.array([lower,(mu-lower)/2+lower,mu,(upper-mu)/2+mu,upper])\n",
    "z_vals"
   ]
  },
  {
   "cell_type": "markdown",
   "metadata": {},
   "source": [
    "## 1c)"
   ]
  },
  {
   "cell_type": "code",
   "execution_count": 6,
   "metadata": {
    "collapsed": false
   },
   "outputs": [
    {
     "data": {
      "text/plain": [
       "array([  9.825,  10.875,  11.925,  12.975])"
      ]
     },
     "execution_count": 6,
     "metadata": {},
     "output_type": "execute_result"
    }
   ],
   "source": [
    "z_cuts = 0.5 * z_vals[:-1] + 0.5 * z_vals[1:]\n",
    "z_cuts"
   ]
  },
  {
   "cell_type": "code",
   "execution_count": 7,
   "metadata": {
    "collapsed": false
   },
   "outputs": [],
   "source": [
    "z_bins = np.empty(T)\n",
    "\n",
    "for i in range(T):\n",
    "    if z_vec[i] <= z_cuts[0]:\n",
    "        z_bins[i] = 0\n",
    "    \n",
    "    elif z_vec[i] <= z_cuts[1]:\n",
    "        z_bins[i] = 1\n",
    "    \n",
    "    elif z_vec[i] <= z_cuts[2]:\n",
    "        z_bins[i] = 2\n",
    "        \n",
    "    elif z_vec[i] <= z_cuts[3]:\n",
    "        z_bins[i] = 3       \n",
    "    else:\n",
    "        z_bins[i] = 4\n",
    "\n"
   ]
  },
  {
   "cell_type": "code",
   "execution_count": 8,
   "metadata": {
    "collapsed": false
   },
   "outputs": [
    {
     "name": "stdout",
     "output_type": "stream",
     "text": [
      "Transition matrix is:\n"
     ]
    },
    {
     "data": {
      "text/plain": [
       "array([[ 0.75757576,  0.21212121,  0.03030303,  0.        ,  0.        ],\n",
       "       [ 0.09821429,  0.51785714,  0.33928571,  0.04464286,  0.        ],\n",
       "       [ 0.03184713,  0.22292994,  0.47770701,  0.23566879,  0.03184713],\n",
       "       [ 0.        ,  0.04273504,  0.34188034,  0.5042735 ,  0.11111111],\n",
       "       [ 0.        ,  0.        ,  0.04255319,  0.34042553,  0.61702128]])"
      ]
     },
     "execution_count": 8,
     "metadata": {},
     "output_type": "execute_result"
    }
   ],
   "source": [
    "trans_counts = np.zeros(shape=(5,5))\n",
    "\n",
    "for i in range(T):\n",
    "    cur_bin = int(z_bins[i])\n",
    "    if i == 0:\n",
    "        continue\n",
    "    assert i >= 1\n",
    "    \n",
    "    prev_bin = int(z_bins[i-1])\n",
    "    \n",
    "    \n",
    "    trans_counts[prev_bin][cur_bin] += 1\n",
    "\n",
    "assert np.sum(trans_counts) == T-1\n",
    "\n",
    "\n",
    "P_hat = trans_counts / ( trans_counts.sum(axis=1).reshape(5,1) )\n",
    "print(\"Transition matrix is:\")\n",
    "P_hat"
   ]
  },
  {
   "cell_type": "markdown",
   "metadata": {},
   "source": [
    "## 1d)"
   ]
  },
  {
   "cell_type": "code",
   "execution_count": 9,
   "metadata": {
    "collapsed": false
   },
   "outputs": [
    {
     "name": "stdout",
     "output_type": "stream",
     "text": [
      "The probability of going from state 3 to state 5 over 2 steps is: 0.0610493791461\n"
     ]
    }
   ],
   "source": [
    "init_state = np.array([0, 0, 1, 0, 0]).reshape(5,1)\n",
    "prob_two_steps = LA.matrix_power(P_hat.T, 2) @ init_state\n",
    "print(\"The probability of going from state 3 to state 5 over 2 steps is:\", prob_two_steps[4][0])"
   ]
  },
  {
   "cell_type": "markdown",
   "metadata": {},
   "source": [
    "## 1e)"
   ]
  },
  {
   "cell_type": "code",
   "execution_count": 10,
   "metadata": {
    "collapsed": false
   },
   "outputs": [
    {
     "data": {
      "text/plain": [
       "array([ 0.10863411,  1.        ,  0.36552089,  0.79420747,  0.60607221])"
      ]
     },
     "execution_count": 10,
     "metadata": {},
     "output_type": "execute_result"
    }
   ],
   "source": [
    "eigvals, eigvecmat = LA.eig(P_hat.T)\n",
    "eigvals"
   ]
  },
  {
   "cell_type": "code",
   "execution_count": 11,
   "metadata": {
    "collapsed": false
   },
   "outputs": [
    {
     "data": {
      "text/plain": [
       "array([[-0.020458  ,  0.27536596,  0.15283646,  0.70399635,  0.41553059],\n",
       "       [ 0.39080083,  0.4672877 , -0.67301232,  0.32001452, -0.44781476],\n",
       "       [-0.78833401,  0.65503722,  0.19402516, -0.17714005, -0.5957381 ],\n",
       "       [ 0.47170014,  0.48814875,  0.62829709, -0.50091491,  0.12076725],\n",
       "       [-0.05370896,  0.19609394, -0.30214639, -0.34595592,  0.50725502]])"
      ]
     },
     "execution_count": 11,
     "metadata": {},
     "output_type": "execute_result"
    }
   ],
   "source": [
    "eigvecmat"
   ]
  },
  {
   "cell_type": "code",
   "execution_count": 12,
   "metadata": {
    "collapsed": false
   },
   "outputs": [
    {
     "name": "stdout",
     "output_type": "stream",
     "text": [
      "The stationary (long-run, ergodic) distribution of Z is:\n"
     ]
    },
    {
     "data": {
      "text/plain": [
       "array([ 0.13226453,  0.2244489 ,  0.31462926,  0.23446894,  0.09418838])"
      ]
     },
     "execution_count": 12,
     "metadata": {},
     "output_type": "execute_result"
    }
   ],
   "source": [
    "eigvec = eigvecmat[:, 1] / eigvecmat[:, 1].sum()\n",
    "stat_dist = eigvec\n",
    "print(\"The stationary (long-run, ergodic) distribution of Z is:\")\n",
    "stat_dist\n"
   ]
  },
  {
   "cell_type": "markdown",
   "metadata": {},
   "source": [
    "## 1f)"
   ]
  },
  {
   "cell_type": "code",
   "execution_count": 13,
   "metadata": {
    "collapsed": false
   },
   "outputs": [],
   "source": [
    "z_0 = z_vals[2]\n",
    "z_vec = np.empty(T)\n",
    "z_t = z_0\n",
    "zt_ind = 1\n",
    "for t_ind in range(T):\n",
    "    ztp1_ind = np.argwhere(unif_vec[t_ind] <= np.cumsum(P_hat[zt_ind, :])).min()\n",
    "    \n",
    "    z_tp1 = z_vals[ztp1_ind]\n",
    "    z_vec[t_ind] = z_tp1\n",
    "    \n",
    "    z_t = z_tp1\n",
    "    zt_ind = ztp1_ind\n"
   ]
  },
  {
   "cell_type": "code",
   "execution_count": 14,
   "metadata": {
    "collapsed": false
   },
   "outputs": [
    {
     "data": {
      "image/png": "[encoded data removed]",
      "text/plain": [
       "<matplotlib.figure.Figure at 0x1158d9748>"
      ]
     },
     "metadata": {},
     "output_type": "display_data"
    }
   ],
   "source": [
    "plt.plot(np.arange(T), z_orig_vec, color='blue', label='Continuous series')\n",
    "plt.plot(np.arange(T), z_vec, color='red', label='Discretized series')\n",
    "plt.title('Discretized series vs. Continuous series')\n",
    "plt.xlabel('t')\n",
    "plt.ylabel(r'$Z_t$')\n",
    "plt.legend()\n",
    "plt.show()"
   ]
  }
 ],
 "metadata": {
  "kernelspec": {
   "display_name": "Python 3",
   "language": "python",
   "name": "python3"
  },
  "language_info": {
   "codemirror_mode": {
    "name": "ipython",
    "version": 3
   },
   "file_extension": ".py",
   "mimetype": "text/x-python",
   "name": "python",
   "nbconvert_exporter": "python",
   "pygments_lexer": "ipython3",
   "version": "3.6.0"
  }
 },
 "nbformat": 4,
 "nbformat_minor": 2
}
